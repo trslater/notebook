{
 "cells": [
  {
   "cell_type": "markdown",
   "metadata": {},
   "source": [
    "The inverse of $\\mathbf{A}$ is denoted $\\mathbf{A}^{-1}$. There are many methods of finding it.\n",
    "\n",
    "I find the most straightforward way to find it by hand is the following:\n",
    "\n",
    "$$\\mathbf{A}^{-1} = \\frac{\\mathbf{C}^T}{|\\mathbf{A}|}$$"
   ]
  }
 ],
 "metadata": {
  "language_info": {
   "name": "python"
  },
  "orig_nbformat": 4
 },
 "nbformat": 4,
 "nbformat_minor": 2
}
