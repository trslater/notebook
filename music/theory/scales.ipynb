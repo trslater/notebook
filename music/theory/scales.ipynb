{
 "cells": [
  {
   "cell_type": "markdown",
   "metadata": {},
   "source": [
    "# Scales"
   ]
  },
  {
   "attachments": {},
   "cell_type": "markdown",
   "metadata": {},
   "source": [
    "## Diatonic Modes\n",
    "\n",
    "| # | Name | Relation to Ionian | DBQ | 1 | 2 | 3 | 4 | 5 | 6 | 7 |\n",
    "| - | - | - | - | - | - | - | - | - | - | - |\n",
    "| 5 | Lydian | #4 | +3 | I  | II  | iii   | #iv° | V  | vi  | vii  |\n",
    "| 1 | Ionian | - | +2 | I  | ii  | iii   | IV   | V  | vi  | vii° | \n",
    "| 4 | Mixolydian | b7 | +1 | I  | ii  | iii°  | IV   | v  | vi  | bVII |\n",
    "| 2 | Dorian | b3, b7 | 0 | i  | ii  | bIII  | IV   | v  | vi° | bVII |\n",
    "| 6 | Aeolian | b3, b6, b7 | -1 | i  | ii° | bIII  | iv   | v  | bVI | bVII |\n",
    "| 3 | Phrygian | b2, b3, b6, b7 | -2 | i  | bII | bIII  | iv   | v° | bVI | bvii |\n",
    "| 7 | Locrian | b2, b3, b5, b6, b7, | -3 | i° | bII | biii  | iv   | bV | bVI | bvii |"
   ]
  },
  {
   "cell_type": "markdown",
   "metadata": {},
   "source": [
    "## Other Modes\n",
    "\n",
    "| Sharpness | DBQ | Diatonic | Melodic Min. | Harmonic Min. | Harmonic Maj. | Double Harmonic |\n",
    "| --- | --- | --- | --- | --- | --- | --- |\n",
    "| 3 | 5 | - | - | - | 6 | 2 |\n",
    "| 2 | 4 | - | 3 | 6 | - | 6 |\n",
    "| 1 | 3 | 4 | - | 3 | - | - |\n",
    "| 0 | 2 | 1 | 4 | - | 4 | - |\n",
    "| -1 | 1 | 5 | 1 | 4 | 1 | 4 |\n",
    "| -2 | 0 | 2 | 5 | 1 | 5 | 1 |\n",
    "| -3 | -1 | 6 | 2 | 5 | 2 | 5 |\n",
    "| -4 | -2 | 3 | 6 | 2 | - | - |\n",
    "| -5 | -3 | 7 | - | - | 3 | - |\n",
    "| -6 | -4 | - | 7 | - | 7 | 3 |\n",
    "| -7 | -5 | - | - | 7 | - | 7 |"
   ]
  }
 ],
 "metadata": {
  "language_info": {
   "name": "python"
  },
  "orig_nbformat": 4
 },
 "nbformat": 4,
 "nbformat_minor": 2
}
